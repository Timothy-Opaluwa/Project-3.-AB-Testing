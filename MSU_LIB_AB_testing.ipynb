{
  "nbformat": 4,
  "nbformat_minor": 0,
  "metadata": {
    "colab": {
      "provenance": []
    },
    "kernelspec": {
      "name": "python3",
      "display_name": "Python 3"
    },
    "language_info": {
      "name": "python"
    }
  },
  "cells": [
    {
      "cell_type": "code",
      "execution_count": 60,
      "metadata": {
        "id": "w932XaWdfJQL"
      },
      "outputs": [],
      "source": [
        "import pandas as pd\n",
        "import numpy as np\n",
        "import matplotlib.pyplot as plt\n",
        "from scipy.stats import t, norm, ttest_1samp,ttest_ind\n",
        "import scipy.stats as stats\n",
        "from scipy.stats import chi2_contingency\n",
        "from itertools import combinations\n",
        "import scipy.stats\n",
        "import seaborn as sns"
      ]
    },
    {
      "cell_type": "code",
      "source": [
        "url = \"https://drive.google.com/file/d/1_sQ8HSqkHA4N1TVonTW2Qg7hCRfemP7J/view?usp=sharing\"\n",
        "path = \"https://drive.google.com/uc?export=download&id=\"+url.split(\"/\")[-2]\n",
        "interact = pd.read_csv(path)"
      ],
      "metadata": {
        "id": "YtXUEWzI0f_R"
      },
      "execution_count": 42,
      "outputs": []
    },
    {
      "cell_type": "code",
      "source": [
        "url = \"https://drive.google.com/file/d/1MlvBh7ly9Kcv8oHQi8Pthc3EPZXRwV89/view?usp=sharing\"\n",
        "path = \"https://drive.google.com/uc?export=download&id=\"+url.split(\"/\")[-2]\n",
        "help = pd.read_csv(path)"
      ],
      "metadata": {
        "id": "elqgC_EZ0o7t"
      },
      "execution_count": 43,
      "outputs": []
    },
    {
      "cell_type": "code",
      "source": [
        "url = \"https://drive.google.com/file/d/1q_sC-WAEt_jYgMRd7hwRnIVg5o2P9A7e/view?usp=sharing\"\n",
        "path = \"https://drive.google.com/uc?export=download&id=\"+url.split(\"/\")[-2]\n",
        "learn = pd.read_csv(path)"
      ],
      "metadata": {
        "id": "kUko1i8N0p-c"
      },
      "execution_count": 44,
      "outputs": []
    },
    {
      "cell_type": "code",
      "source": [
        "url = \"https://drive.google.com/file/d/1dzLXX0CG12XR47Fmuey_lAKFp7eznCm4/view?usp=sharing\"\n",
        "path = \"https://drive.google.com/uc?export=download&id=\"+url.split(\"/\")[-2]\n",
        "connect = pd.read_csv(path)"
      ],
      "metadata": {
        "id": "r9BEEooj0rSI"
      },
      "execution_count": 45,
      "outputs": []
    },
    {
      "cell_type": "code",
      "source": [
        "url = \"https://drive.google.com/file/d/1Fzr5IrU0xkfmE01bLkPHS5ZKO_XDGDEW/view?usp=sharing\"\n",
        "path = \"https://drive.google.com/uc?export=download&id=\"+url.split(\"/\")[-2]\n",
        "services = pd.read_csv(path)"
      ],
      "metadata": {
        "id": "AxIHSLNvfXIb"
      },
      "execution_count": 46,
      "outputs": []
    },
    {
      "cell_type": "code",
      "source": [
        "#To see everything in the df\n",
        "# Set the max_colwidth option to None\n",
        "pd.set_option('display.max_colwidth', None)"
      ],
      "metadata": {
        "id": "O-cs4D5-_wKM"
      },
      "execution_count": 48,
      "outputs": []
    },
    {
      "cell_type": "code",
      "source": [
        "connect.head()"
      ],
      "metadata": {
        "colab": {
          "base_uri": "https://localhost:8080/",
          "height": 206
        },
        "id": "xmSLxDzYBAGn",
        "outputId": "de2c72ce-a643-4a2a-fcc1-9febb41f2e29"
      },
      "execution_count": 49,
      "outputs": [
        {
          "output_type": "execute_result",
          "data": {
            "text/plain": [
              "   Element ID Tag name                                       Name  No. clicks  \\\n",
              "0          74        a                                       FIND         502   \n",
              "1          66    input                                        s.q         357   \n",
              "2          72        a                      lib.montana.edu/find/         171   \n",
              "3         133     area  Montana State University Libraries - Home          83   \n",
              "4         103        a                                      Hours          74   \n",
              "\n",
              "   Visible?  \\\n",
              "0      True   \n",
              "1      True   \n",
              "2      True   \n",
              "3     False   \n",
              "4      True   \n",
              "\n",
              "                                                             Snapshot information  \n",
              "0        Homepage Version 2 - Connect   •   http://www.lib.montana.edu/index2.php  \n",
              "1  created 5-29-2013   •   20 days 7 hours 34 mins   •   2742 visits, 1587 clicks  \n",
              "2                                                                             NaN  \n",
              "3                                                                             NaN  \n",
              "4                                                                             NaN  "
            ],
            "text/html": [
              "\n",
              "  <div id=\"df-eaa5c277-ddfb-4b4b-bcce-b4990a34d01e\" class=\"colab-df-container\">\n",
              "    <div>\n",
              "<style scoped>\n",
              "    .dataframe tbody tr th:only-of-type {\n",
              "        vertical-align: middle;\n",
              "    }\n",
              "\n",
              "    .dataframe tbody tr th {\n",
              "        vertical-align: top;\n",
              "    }\n",
              "\n",
              "    .dataframe thead th {\n",
              "        text-align: right;\n",
              "    }\n",
              "</style>\n",
              "<table border=\"1\" class=\"dataframe\">\n",
              "  <thead>\n",
              "    <tr style=\"text-align: right;\">\n",
              "      <th></th>\n",
              "      <th>Element ID</th>\n",
              "      <th>Tag name</th>\n",
              "      <th>Name</th>\n",
              "      <th>No. clicks</th>\n",
              "      <th>Visible?</th>\n",
              "      <th>Snapshot information</th>\n",
              "    </tr>\n",
              "  </thead>\n",
              "  <tbody>\n",
              "    <tr>\n",
              "      <th>0</th>\n",
              "      <td>74</td>\n",
              "      <td>a</td>\n",
              "      <td>FIND</td>\n",
              "      <td>502</td>\n",
              "      <td>True</td>\n",
              "      <td>Homepage Version 2 - Connect   •   http://www.lib.montana.edu/index2.php</td>\n",
              "    </tr>\n",
              "    <tr>\n",
              "      <th>1</th>\n",
              "      <td>66</td>\n",
              "      <td>input</td>\n",
              "      <td>s.q</td>\n",
              "      <td>357</td>\n",
              "      <td>True</td>\n",
              "      <td>created 5-29-2013   •   20 days 7 hours 34 mins   •   2742 visits, 1587 clicks</td>\n",
              "    </tr>\n",
              "    <tr>\n",
              "      <th>2</th>\n",
              "      <td>72</td>\n",
              "      <td>a</td>\n",
              "      <td>lib.montana.edu/find/</td>\n",
              "      <td>171</td>\n",
              "      <td>True</td>\n",
              "      <td>NaN</td>\n",
              "    </tr>\n",
              "    <tr>\n",
              "      <th>3</th>\n",
              "      <td>133</td>\n",
              "      <td>area</td>\n",
              "      <td>Montana State University Libraries - Home</td>\n",
              "      <td>83</td>\n",
              "      <td>False</td>\n",
              "      <td>NaN</td>\n",
              "    </tr>\n",
              "    <tr>\n",
              "      <th>4</th>\n",
              "      <td>103</td>\n",
              "      <td>a</td>\n",
              "      <td>Hours</td>\n",
              "      <td>74</td>\n",
              "      <td>True</td>\n",
              "      <td>NaN</td>\n",
              "    </tr>\n",
              "  </tbody>\n",
              "</table>\n",
              "</div>\n",
              "    <div class=\"colab-df-buttons\">\n",
              "\n",
              "  <div class=\"colab-df-container\">\n",
              "    <button class=\"colab-df-convert\" onclick=\"convertToInteractive('df-eaa5c277-ddfb-4b4b-bcce-b4990a34d01e')\"\n",
              "            title=\"Convert this dataframe to an interactive table.\"\n",
              "            style=\"display:none;\">\n",
              "\n",
              "  <svg xmlns=\"http://www.w3.org/2000/svg\" height=\"24px\" viewBox=\"0 -960 960 960\">\n",
              "    <path d=\"M120-120v-720h720v720H120Zm60-500h600v-160H180v160Zm220 220h160v-160H400v160Zm0 220h160v-160H400v160ZM180-400h160v-160H180v160Zm440 0h160v-160H620v160ZM180-180h160v-160H180v160Zm440 0h160v-160H620v160Z\"/>\n",
              "  </svg>\n",
              "    </button>\n",
              "\n",
              "  <style>\n",
              "    .colab-df-container {\n",
              "      display:flex;\n",
              "      gap: 12px;\n",
              "    }\n",
              "\n",
              "    .colab-df-convert {\n",
              "      background-color: #E8F0FE;\n",
              "      border: none;\n",
              "      border-radius: 50%;\n",
              "      cursor: pointer;\n",
              "      display: none;\n",
              "      fill: #1967D2;\n",
              "      height: 32px;\n",
              "      padding: 0 0 0 0;\n",
              "      width: 32px;\n",
              "    }\n",
              "\n",
              "    .colab-df-convert:hover {\n",
              "      background-color: #E2EBFA;\n",
              "      box-shadow: 0px 1px 2px rgba(60, 64, 67, 0.3), 0px 1px 3px 1px rgba(60, 64, 67, 0.15);\n",
              "      fill: #174EA6;\n",
              "    }\n",
              "\n",
              "    .colab-df-buttons div {\n",
              "      margin-bottom: 4px;\n",
              "    }\n",
              "\n",
              "    [theme=dark] .colab-df-convert {\n",
              "      background-color: #3B4455;\n",
              "      fill: #D2E3FC;\n",
              "    }\n",
              "\n",
              "    [theme=dark] .colab-df-convert:hover {\n",
              "      background-color: #434B5C;\n",
              "      box-shadow: 0px 1px 3px 1px rgba(0, 0, 0, 0.15);\n",
              "      filter: drop-shadow(0px 1px 2px rgba(0, 0, 0, 0.3));\n",
              "      fill: #FFFFFF;\n",
              "    }\n",
              "  </style>\n",
              "\n",
              "    <script>\n",
              "      const buttonEl =\n",
              "        document.querySelector('#df-eaa5c277-ddfb-4b4b-bcce-b4990a34d01e button.colab-df-convert');\n",
              "      buttonEl.style.display =\n",
              "        google.colab.kernel.accessAllowed ? 'block' : 'none';\n",
              "\n",
              "      async function convertToInteractive(key) {\n",
              "        const element = document.querySelector('#df-eaa5c277-ddfb-4b4b-bcce-b4990a34d01e');\n",
              "        const dataTable =\n",
              "          await google.colab.kernel.invokeFunction('convertToInteractive',\n",
              "                                                    [key], {});\n",
              "        if (!dataTable) return;\n",
              "\n",
              "        const docLinkHtml = 'Like what you see? Visit the ' +\n",
              "          '<a target=\"_blank\" href=https://colab.research.google.com/notebooks/data_table.ipynb>data table notebook</a>'\n",
              "          + ' to learn more about interactive tables.';\n",
              "        element.innerHTML = '';\n",
              "        dataTable['output_type'] = 'display_data';\n",
              "        await google.colab.output.renderOutput(dataTable, element);\n",
              "        const docLink = document.createElement('div');\n",
              "        docLink.innerHTML = docLinkHtml;\n",
              "        element.appendChild(docLink);\n",
              "      }\n",
              "    </script>\n",
              "  </div>\n",
              "\n",
              "\n",
              "<div id=\"df-ccab723d-2961-4c05-bf01-f97f181d1896\">\n",
              "  <button class=\"colab-df-quickchart\" onclick=\"quickchart('df-ccab723d-2961-4c05-bf01-f97f181d1896')\"\n",
              "            title=\"Suggest charts.\"\n",
              "            style=\"display:none;\">\n",
              "\n",
              "<svg xmlns=\"http://www.w3.org/2000/svg\" height=\"24px\"viewBox=\"0 0 24 24\"\n",
              "     width=\"24px\">\n",
              "    <g>\n",
              "        <path d=\"M19 3H5c-1.1 0-2 .9-2 2v14c0 1.1.9 2 2 2h14c1.1 0 2-.9 2-2V5c0-1.1-.9-2-2-2zM9 17H7v-7h2v7zm4 0h-2V7h2v10zm4 0h-2v-4h2v4z\"/>\n",
              "    </g>\n",
              "</svg>\n",
              "  </button>\n",
              "\n",
              "<style>\n",
              "  .colab-df-quickchart {\n",
              "      --bg-color: #E8F0FE;\n",
              "      --fill-color: #1967D2;\n",
              "      --hover-bg-color: #E2EBFA;\n",
              "      --hover-fill-color: #174EA6;\n",
              "      --disabled-fill-color: #AAA;\n",
              "      --disabled-bg-color: #DDD;\n",
              "  }\n",
              "\n",
              "  [theme=dark] .colab-df-quickchart {\n",
              "      --bg-color: #3B4455;\n",
              "      --fill-color: #D2E3FC;\n",
              "      --hover-bg-color: #434B5C;\n",
              "      --hover-fill-color: #FFFFFF;\n",
              "      --disabled-bg-color: #3B4455;\n",
              "      --disabled-fill-color: #666;\n",
              "  }\n",
              "\n",
              "  .colab-df-quickchart {\n",
              "    background-color: var(--bg-color);\n",
              "    border: none;\n",
              "    border-radius: 50%;\n",
              "    cursor: pointer;\n",
              "    display: none;\n",
              "    fill: var(--fill-color);\n",
              "    height: 32px;\n",
              "    padding: 0;\n",
              "    width: 32px;\n",
              "  }\n",
              "\n",
              "  .colab-df-quickchart:hover {\n",
              "    background-color: var(--hover-bg-color);\n",
              "    box-shadow: 0 1px 2px rgba(60, 64, 67, 0.3), 0 1px 3px 1px rgba(60, 64, 67, 0.15);\n",
              "    fill: var(--button-hover-fill-color);\n",
              "  }\n",
              "\n",
              "  .colab-df-quickchart-complete:disabled,\n",
              "  .colab-df-quickchart-complete:disabled:hover {\n",
              "    background-color: var(--disabled-bg-color);\n",
              "    fill: var(--disabled-fill-color);\n",
              "    box-shadow: none;\n",
              "  }\n",
              "\n",
              "  .colab-df-spinner {\n",
              "    border: 2px solid var(--fill-color);\n",
              "    border-color: transparent;\n",
              "    border-bottom-color: var(--fill-color);\n",
              "    animation:\n",
              "      spin 1s steps(1) infinite;\n",
              "  }\n",
              "\n",
              "  @keyframes spin {\n",
              "    0% {\n",
              "      border-color: transparent;\n",
              "      border-bottom-color: var(--fill-color);\n",
              "      border-left-color: var(--fill-color);\n",
              "    }\n",
              "    20% {\n",
              "      border-color: transparent;\n",
              "      border-left-color: var(--fill-color);\n",
              "      border-top-color: var(--fill-color);\n",
              "    }\n",
              "    30% {\n",
              "      border-color: transparent;\n",
              "      border-left-color: var(--fill-color);\n",
              "      border-top-color: var(--fill-color);\n",
              "      border-right-color: var(--fill-color);\n",
              "    }\n",
              "    40% {\n",
              "      border-color: transparent;\n",
              "      border-right-color: var(--fill-color);\n",
              "      border-top-color: var(--fill-color);\n",
              "    }\n",
              "    60% {\n",
              "      border-color: transparent;\n",
              "      border-right-color: var(--fill-color);\n",
              "    }\n",
              "    80% {\n",
              "      border-color: transparent;\n",
              "      border-right-color: var(--fill-color);\n",
              "      border-bottom-color: var(--fill-color);\n",
              "    }\n",
              "    90% {\n",
              "      border-color: transparent;\n",
              "      border-bottom-color: var(--fill-color);\n",
              "    }\n",
              "  }\n",
              "</style>\n",
              "\n",
              "  <script>\n",
              "    async function quickchart(key) {\n",
              "      const quickchartButtonEl =\n",
              "        document.querySelector('#' + key + ' button');\n",
              "      quickchartButtonEl.disabled = true;  // To prevent multiple clicks.\n",
              "      quickchartButtonEl.classList.add('colab-df-spinner');\n",
              "      try {\n",
              "        const charts = await google.colab.kernel.invokeFunction(\n",
              "            'suggestCharts', [key], {});\n",
              "      } catch (error) {\n",
              "        console.error('Error during call to suggestCharts:', error);\n",
              "      }\n",
              "      quickchartButtonEl.classList.remove('colab-df-spinner');\n",
              "      quickchartButtonEl.classList.add('colab-df-quickchart-complete');\n",
              "    }\n",
              "    (() => {\n",
              "      let quickchartButtonEl =\n",
              "        document.querySelector('#df-ccab723d-2961-4c05-bf01-f97f181d1896 button');\n",
              "      quickchartButtonEl.style.display =\n",
              "        google.colab.kernel.accessAllowed ? 'block' : 'none';\n",
              "    })();\n",
              "  </script>\n",
              "</div>\n",
              "    </div>\n",
              "  </div>\n"
            ]
          },
          "metadata": {},
          "execution_count": 49
        }
      ]
    },
    {
      "cell_type": "markdown",
      "source": [
        "interact (version A): 42 clicks, 10241 visits\n",
        "\n",
        "help (version B): 53 clicks, 2689 visits\n",
        "\n",
        "learn (version C): 21 clicks, 2726 visits\n",
        "\n",
        "connect (version D): 38 clicks, 3142 visits\n",
        "\n",
        "services (version E): 45 clicks, 2019 visits\n",
        "       \n",
        "       \n",
        "alpha = 0.1,\n",
        "\n",
        "\n",
        "\n",
        "Null Hypothesis: The 5 versions of the button are equally likely to receive clicks, and the observed differences are due to chance.\n",
        "\n",
        "Alternative Hypothesis: The observed differences are not due to chance: there is at least one version that got so many more/much less clicks than the others that this can hardly be explained just by chance (i.e. they have a better/worse CTR, a better/worse performance)."
      ],
      "metadata": {
        "id": "S1TeTX3JhnF9"
      }
    },
    {
      "cell_type": "markdown",
      "source": [
        "calculate the ctr"
      ],
      "metadata": {
        "id": "9YIf74LAPO1T"
      }
    },
    {
      "cell_type": "code",
      "source": [
        "# Create a dictionary with the data\n",
        "data = {\n",
        "    'Version': ['Interact', 'Help', 'Learn', 'Connect', 'Services'],\n",
        "    'Click': [42, 38, 21, 53, 45],\n",
        "    'Visit': [10283, 3180, 2747, 2742, 2064]\n",
        "}"
      ],
      "metadata": {
        "id": "fG7bHk4LOuZw"
      },
      "execution_count": 51,
      "outputs": []
    },
    {
      "cell_type": "code",
      "source": [
        "# Create a DataFrame from the dictionary\n",
        "df = pd.DataFrame(data)"
      ],
      "metadata": {
        "id": "5YKqYatNOuWX"
      },
      "execution_count": 52,
      "outputs": []
    },
    {
      "cell_type": "code",
      "source": [
        "# Calculate CTR for each action\n",
        "ctr = (df['Click'] / df['Visit']) * 100\n",
        "ctr"
      ],
      "metadata": {
        "colab": {
          "base_uri": "https://localhost:8080/"
        },
        "id": "WNytyCryOuS0",
        "outputId": "69647e47-1ed3-4dde-abd6-b1af09f514f5"
      },
      "execution_count": 53,
      "outputs": [
        {
          "output_type": "execute_result",
          "data": {
            "text/plain": [
              "0    0.408441\n",
              "1    1.194969\n",
              "2    0.764470\n",
              "3    1.932896\n",
              "4    2.180233\n",
              "dtype: float64"
            ]
          },
          "metadata": {},
          "execution_count": 53
        }
      ]
    },
    {
      "cell_type": "markdown",
      "source": [
        "calculate the chi square"
      ],
      "metadata": {
        "id": "Ms3koHI8PfaK"
      }
    },
    {
      "cell_type": "code",
      "source": [
        "alpha = 0.1"
      ],
      "metadata": {
        "id": "AiujiMugRlJ-"
      },
      "execution_count": 12,
      "outputs": []
    },
    {
      "cell_type": "code",
      "source": [
        "# Calculate 'No Click' for each action\n",
        "df['No Click'] = df['Visit'] - df['Click']"
      ],
      "metadata": {
        "id": "GYBM0Vr5OuPr"
      },
      "execution_count": 54,
      "outputs": []
    },
    {
      "cell_type": "code",
      "source": [
        "# Display the DataFrame with 'No Click' column\n",
        "print(df[['Version', 'No Click']])"
      ],
      "metadata": {
        "colab": {
          "base_uri": "https://localhost:8080/"
        },
        "id": "PF0mRztuDqAI",
        "outputId": "09388e96-c3a6-47de-e491-93ac3f3aaf70"
      },
      "execution_count": 14,
      "outputs": [
        {
          "output_type": "stream",
          "name": "stdout",
          "text": [
            "    Version  No Click\n",
            "0  Interact     10241\n",
            "1      Help      3142\n",
            "2     Learn      2726\n",
            "3   Connect      2689\n",
            "4  Services      2019\n"
          ]
        }
      ]
    },
    {
      "cell_type": "code",
      "source": [
        "# Assuming you have 'Click' and 'No Click' counts for each version\n",
        "click_counts = [42, 53, 21, 38, 45]\n",
        "no_click_counts = [10283 - 42, 2742 - 53, 2747 - 21, 3180 - 38, 2064 - 45]"
      ],
      "metadata": {
        "id": "vk3yX3psEMhP"
      },
      "execution_count": 15,
      "outputs": []
    },
    {
      "cell_type": "code",
      "source": [
        "# Create a contingency table\n",
        "contingency_table = df[['Click', 'No Click']].values\n"
      ],
      "metadata": {
        "id": "abg7TarfOuMN"
      },
      "execution_count": 16,
      "outputs": []
    },
    {
      "cell_type": "code",
      "source": [
        "# Perform chi-square test\n",
        "chi2_stat, p_val, dof, expected = scipy.stats.chi2_contingency(contingency_table)\n",
        "\n",
        "alpha = 0.1\n",
        "\n",
        "print(\"Chi-square statistic:\", chi2_stat)\n",
        "print(\"P-value:\", p_val)\n",
        "print(\"Degrees of freedom:\", dof)\n",
        "print(\"Expected frequencies:\", expected)\n",
        "\n",
        "if p_val <= alpha:\n",
        "    print(\"Reject null hypothesis: The versions do not receive the same click.\")\n",
        "else:\n",
        "    print(\"Fail to reject null hypothesis: The versions receive the same click.\")"
      ],
      "metadata": {
        "colab": {
          "base_uri": "https://localhost:8080/"
        },
        "id": "JnEtkOUeOuIz",
        "outputId": "cd474a6d-b373-44d6-9f63-a8d18c0ba95f"
      },
      "execution_count": 17,
      "outputs": [
        {
          "output_type": "stream",
          "name": "stdout",
          "text": [
            "Chi-square statistic: 96.7432353798328\n",
            "P-value: 4.852334301093838e-20\n",
            "Degrees of freedom: 4\n",
            "Expected frequencies: [[   97.3694804  10185.6305196 ]\n",
            " [   30.11134374  3149.88865626]\n",
            " [   26.01127712  2720.98872288]\n",
            " [   25.96393224  2716.03606776]\n",
            " [   19.5439665   2044.4560335 ]]\n",
            "Reject null hypothesis: The versions do not receive the same click.\n"
          ]
        }
      ]
    },
    {
      "cell_type": "code",
      "source": [
        "#OR"
      ],
      "metadata": {
        "id": "S25OvjHOOuBw"
      },
      "execution_count": null,
      "outputs": []
    },
    {
      "cell_type": "code",
      "source": [
        "alpha = 0.1"
      ],
      "metadata": {
        "id": "Qx6mJJxBGs-Z"
      },
      "execution_count": 18,
      "outputs": []
    },
    {
      "cell_type": "code",
      "source": [
        "# Create a DataFrame with the provided data\n",
        "data = {\n",
        "    'Version': ['A', 'B', 'C', 'D', 'E'],\n",
        "    'Clicks': [42, 10241, 1652, 1587, 1348],\n",
        "    'No-Clicks': [6569, 1463, 1095, 1155, 716]\n",
        "}\n",
        "df = pd.DataFrame(data)"
      ],
      "metadata": {
        "id": "a0NXNi-kbwxe"
      },
      "execution_count": 19,
      "outputs": []
    },
    {
      "cell_type": "code",
      "source": [
        "# Create a contingency table\n",
        "contingency_table = df[['Clicks', 'No-Clicks']].values"
      ],
      "metadata": {
        "id": "ly9jCwYAbv7A"
      },
      "execution_count": 20,
      "outputs": []
    },
    {
      "cell_type": "code",
      "source": [
        "# Perform the chi-square test\n",
        "chi2, p, dof, expected = chi2_contingency(contingency_table)\n",
        "\n",
        "alpha = 0.1\n",
        "\n",
        "print(f'Chi-Square Value: {chi2}')\n",
        "print(f'p-value: {p}')\n",
        "\n",
        "if p < alpha:\n",
        "    print(\"Reject the null hypothesis: There is a difference in CTR for the different versions.\")\n",
        "else:\n",
        "    print(\"Fail to reject the null hypothesis: All versions have the same CTR.\")"
      ],
      "metadata": {
        "colab": {
          "base_uri": "https://localhost:8080/"
        },
        "id": "dcHeNLDXcEMU",
        "outputId": "098f562b-0035-49dc-c421-2a66313e9f1f"
      },
      "execution_count": 21,
      "outputs": [
        {
          "output_type": "stream",
          "name": "stdout",
          "text": [
            "Chi-Square Value: 13116.389116520515\n",
            "p-value: 0.0\n",
            "Reject the null hypothesis: There is a difference in CTR for the different versions.\n"
          ]
        }
      ]
    },
    {
      "cell_type": "code",
      "source": [
        "#OR"
      ],
      "metadata": {
        "id": "tt330mN9cL33"
      },
      "execution_count": null,
      "outputs": []
    },
    {
      "cell_type": "code",
      "source": [
        "observed = df[['Clicks', 'No-Clicks']].values.T #extracts numbers into a numpy array (matrix) and takes the transpose of it\n",
        "\n",
        "chi2_stat, p, dgf, expected_frequencies = chi2_contingency(observed)\n",
        "\n",
        "print(f\"Chi-Squared Value = {chi2_stat}\")\n",
        "print(f\"P-Value = {p}\")\n",
        "print(f\"Degrees of Freedom = {dgf}\")"
      ],
      "metadata": {
        "colab": {
          "base_uri": "https://localhost:8080/"
        },
        "id": "q001Su69JXUH",
        "outputId": "f982e659-f15a-483a-9487-919b3a702cd7"
      },
      "execution_count": 22,
      "outputs": [
        {
          "output_type": "stream",
          "name": "stdout",
          "text": [
            "Chi-Squared Value = 13116.389116520513\n",
            "P-Value = 0.0\n",
            "Degrees of Freedom = 4\n"
          ]
        }
      ]
    },
    {
      "cell_type": "code",
      "source": [
        "#calculate the test result\n",
        "chisq_2, pvalue_2, df_2 , expected_2 = chi2_contingency(observed)"
      ],
      "metadata": {
        "id": "m7GFskpaSxZs"
      },
      "execution_count": 23,
      "outputs": []
    },
    {
      "cell_type": "code",
      "source": [
        "chisq_2"
      ],
      "metadata": {
        "colab": {
          "base_uri": "https://localhost:8080/"
        },
        "id": "I2kVq7bnbhIQ",
        "outputId": "b4158a7e-9a33-4c70-eca1-cade593320d6"
      },
      "execution_count": 24,
      "outputs": [
        {
          "output_type": "execute_result",
          "data": {
            "text/plain": [
              "13116.389116520513"
            ]
          },
          "metadata": {},
          "execution_count": 24
        }
      ]
    },
    {
      "cell_type": "code",
      "source": [
        "pvalue_2,"
      ],
      "metadata": {
        "colab": {
          "base_uri": "https://localhost:8080/"
        },
        "id": "L9HEWGhcUeq6",
        "outputId": "9eb27976-ff29-424f-bb6b-8ccf009c072d"
      },
      "execution_count": 25,
      "outputs": [
        {
          "output_type": "execute_result",
          "data": {
            "text/plain": [
              "(0.0,)"
            ]
          },
          "metadata": {},
          "execution_count": 25
        }
      ]
    },
    {
      "cell_type": "code",
      "source": [
        "#interprete the result\n",
        "if pvalue_2 < alpha:\n",
        "    print(\"Reject the null hypothesis\")\n",
        "else:\n",
        "    print(\"Fail to reject the null hypothesis\")\n"
      ],
      "metadata": {
        "colab": {
          "base_uri": "https://localhost:8080/"
        },
        "id": "ReOKiqEARTWO",
        "outputId": "3828328b-52ea-4c97-cf9b-0ef101f947d9"
      },
      "execution_count": 26,
      "outputs": [
        {
          "output_type": "stream",
          "name": "stdout",
          "text": [
            "Reject the null hypothesis\n"
          ]
        }
      ]
    },
    {
      "cell_type": "markdown",
      "source": [
        "perform a post-hoc test using Bonferroni Adjustment to decide the winner"
      ],
      "metadata": {
        "id": "plDbt6WlfeMg"
      }
    },
    {
      "cell_type": "markdown",
      "source": [
        "In brief:\n",
        "\n",
        "Post hoc tests, also known as post hoc comparisons or pairwise comparisons, are statistical procedures used in conjunction with a Chi-Squared test to determine specific differences between groups or conditions after obtaining significant results from the Chi-Squared test. Once the Chi-Squared test reveals a significant difference among the variables being examined, post hoc tests are employed to identify which specific groups or categories are significantly different from each other."
      ],
      "metadata": {
        "id": "70HrC69kw25Y"
      }
    },
    {
      "cell_type": "code",
      "source": [
        "import pandas as pd\n",
        "from statsmodels.stats.proportion import proportions_ztest\n",
        "\n",
        "# Given data\n",
        "data = {\n",
        "    'Version': ['A', 'B', 'C', 'D', 'E'],\n",
        "    'Clicks': [42, 10241, 1652, 1587, 1348],\n",
        "    'No-Clicks': [6569, 1463, 1095, 1155, 716]\n",
        "}\n",
        "df = pd.DataFrame(data)\n",
        "\n",
        "# Calculate click-through rate (CTR) for each version\n",
        "df['CTR'] = df['Clicks'] / (df['Clicks'] + df['No-Clicks'])\n",
        "\n",
        "# Total number of versions\n",
        "num_versions = len(df)\n",
        "\n",
        "# Desired alpha level\n",
        "alpha = 0.1\n",
        "\n",
        "# Bonferroni-adjusted significance level\n",
        "adjusted_alpha = alpha / num_versions\n",
        "\n",
        "# Perform hypothesis tests for each version\n",
        "for i, row in df.iterrows():\n",
        "    clicks = row['Clicks']\n",
        "    total = clicks + row['No-Clicks']\n",
        "    p_value = proportions_ztest(count=clicks, nobs=total, value=1/num_versions)[1]\n",
        "\n",
        "    print(f\"Version {row['Version']}: p-value = {p_value}\")\n",
        "\n",
        "    if p_value < adjusted_alpha:\n",
        "        print(\"Reject the null hypothesis - the version performs differently.\")\n",
        "    else:\n",
        "        print(\"Fail to reject the null hypothesis - no significant difference.\")\n",
        "\n",
        "    print(\"\\n---\\n\")\n"
      ],
      "metadata": {
        "colab": {
          "base_uri": "https://localhost:8080/"
        },
        "id": "uw36ckDpyAHd",
        "outputId": "3d7fa306-cf3d-4254-db04-4621df118362"
      },
      "execution_count": 67,
      "outputs": [
        {
          "output_type": "stream",
          "name": "stdout",
          "text": [
            "Version A: p-value = 0.0\n",
            "Reject the null hypothesis - the version performs differently.\n",
            "\n",
            "---\n",
            "\n",
            "Version B: p-value = 0.0\n",
            "Reject the null hypothesis - the version performs differently.\n",
            "\n",
            "---\n",
            "\n",
            "Version C: p-value = 0.0\n",
            "Reject the null hypothesis - the version performs differently.\n",
            "\n",
            "---\n",
            "\n",
            "Version D: p-value = 0.0\n",
            "Reject the null hypothesis - the version performs differently.\n",
            "\n",
            "---\n",
            "\n",
            "Version E: p-value = 0.0\n",
            "Reject the null hypothesis - the version performs differently.\n",
            "\n",
            "---\n",
            "\n"
          ]
        }
      ]
    },
    {
      "cell_type": "markdown",
      "source": [
        "It looks like all versions have p-values less than the Bonferroni-adjusted significance level (0.02), so I would reject the null hypothesis for each version. This suggests that each version performs differently from the others."
      ],
      "metadata": {
        "id": "cHKW2vyb3PY5"
      }
    },
    {
      "cell_type": "code",
      "source": [
        "# Calculate CTR for each action\n",
        "ctr = (df['Click'] / df['Visit']) * 100\n",
        "ctr"
      ],
      "metadata": {
        "colab": {
          "base_uri": "https://localhost:8080/"
        },
        "id": "cxRSnKqV2vVO",
        "outputId": "19b67b49-507d-4655-a693-440273af895e"
      },
      "execution_count": 55,
      "outputs": [
        {
          "output_type": "execute_result",
          "data": {
            "text/plain": [
              "0    0.408441\n",
              "1    1.194969\n",
              "2    0.764470\n",
              "3    1.932896\n",
              "4    2.180233\n",
              "dtype: float64"
            ]
          },
          "metadata": {},
          "execution_count": 55
        }
      ]
    },
    {
      "cell_type": "markdown",
      "source": [
        "But Checking the CTR, Service version performs the best."
      ],
      "metadata": {
        "id": "zrYaPj4H3DGo"
      }
    },
    {
      "cell_type": "code",
      "source": [
        "data = {'Version': ['Interact', 'Help', 'Learn', 'Connect', 'Services'],\n",
        "        'CTR': [0.408441, 1.194969, 0.764470, 1.932896, 2.180233]}\n",
        "\n",
        "df = pd.DataFrame(data)\n",
        "df.set_index('Version', inplace=True)\n",
        "\n",
        "print(df)"
      ],
      "metadata": {
        "colab": {
          "base_uri": "https://localhost:8080/"
        },
        "id": "BAP56Vf88Cmf",
        "outputId": "c79f9f0a-dfac-483b-ce6d-cdcac468e538"
      },
      "execution_count": 63,
      "outputs": [
        {
          "output_type": "stream",
          "name": "stdout",
          "text": [
            "               CTR\n",
            "Version           \n",
            "Interact  0.408441\n",
            "Help      1.194969\n",
            "Learn     0.764470\n",
            "Connect   1.932896\n",
            "Services  2.180233\n"
          ]
        }
      ]
    },
    {
      "cell_type": "code",
      "source": [
        "import seaborn as sns\n",
        "import matplotlib.pyplot as plt\n",
        "\n",
        "# Assuming df is your DataFrame with 'Version' as the index\n",
        "sns.heatmap(df, annot=True, cmap=\"YlGnBu\", fmt=\".3f\", linewidths=.5)\n",
        "plt.title('Heatmap of CTR')\n",
        "plt.show()"
      ],
      "metadata": {
        "colab": {
          "base_uri": "https://localhost:8080/",
          "height": 452
        },
        "id": "KU9bxPk28mAG",
        "outputId": "ff0c674d-9886-4b4c-d795-3642d18855bc"
      },
      "execution_count": 65,
      "outputs": [
        {
          "output_type": "display_data",
          "data": {
            "text/plain": [
              "<Figure size 640x480 with 2 Axes>"
            ],
            "image/png": "[encoded data removed]"
          },
          "metadata": {}
        }
      ]
    }
  ]
}